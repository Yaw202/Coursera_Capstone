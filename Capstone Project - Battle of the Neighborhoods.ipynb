{
    "cells": [
        {
            "cell_type": "markdown",
            "metadata": {
                "collapsed": true
            },
            "source": "## \nroblem and Background"
        },
        {
            "cell_type": "markdown",
            "metadata": {},
            "source": "Toronto is one of the most cosmopolitan cities in the world. It is the home of a wide range of people from different cultures as such has become an international business hub in the world. As the largest city in Canada with a population of over 6 million, it represents an ideal location to set up a business. Time is of the essence in such a busy environment and an efficient food delivery service will serve the people well.\n\nThe project utilizes Foursquare location data, segmentation and clustering techniques in order to identify the most appropriate neighborhood to station the office/base of the food delivery service. The project allows the business to pilot its service in a neighborhood which maximizes access to a variety of foods over the shortest possible distance from the base. This increases probability of opportunities for the business and allows them to be more efficient in delivery times.\n"
        },
        {
            "cell_type": "markdown",
            "metadata": {},
            "source": "## Data Description"
        },
        {
            "cell_type": "markdown",
            "metadata": {},
            "source": "The sources of data for this project are:\n\n\n1.\tList of postal Codes of Canada via Wikipedia which provided the various neighborhoods and bouroughs. Specifically, the link below:\nhttps://en.wikipedia.org/wiki/List_of_postal_codes_of_Canada:_M\n\n\n\n2.\tA csv file which provided the Geographical coordinates of the neighborhoods in Canada. Specifically:\nhttps://cocl.us/Geospatial_data\nFrom the above the coordinates of the neighborhoods in Toronto will be extracted and used in the Foursquare API.\n\n\n\n3.\tVenue Data Using Foursquare API\nData from these files will be merged, cleaned and visualized and the Foursquare API used to gather nearby venues in the respective neighborhoods. Each neighborhood will be examined and analyzed with a machine learning technique called clustering to determine frequency of food venues, variety of food venues and proximity to residential and business neighborhoods. The end product after comparison will be the location which optimizes exposure to a variety of foods as well as proximity to residential and business areas.\n"
        }
    ],
    "metadata": {
        "kernelspec": {
            "display_name": "Python 3.6",
            "language": "python",
            "name": "python3"
        },
        "language_info": {
            "codemirror_mode": {
                "name": "ipython",
                "version": 3
            },
            "file_extension": ".py",
            "mimetype": "text/x-python",
            "name": "python",
            "nbconvert_exporter": "python",
            "pygments_lexer": "ipython3",
            "version": "3.6.9"
        }
    },
    "nbformat": 4,
    "nbformat_minor": 1
}